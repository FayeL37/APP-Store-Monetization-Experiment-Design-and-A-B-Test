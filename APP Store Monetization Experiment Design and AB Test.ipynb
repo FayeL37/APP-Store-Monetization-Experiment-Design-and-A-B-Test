{
 "cells": [
  {
   "cell_type": "markdown",
   "metadata": {},
   "source": [
    "## Project Background and Objective"
   ]
  },
  {
   "cell_type": "markdown",
   "metadata": {},
   "source": [
    "I was asked to find out insights from data to cast light on increasing revenue for next quarter by 10%. So in this project I took every effort to explore interesting things hidden behind the data and inform decision making to increase revnues. "
   ]
  },
  {
   "cell_type": "markdown",
   "metadata": {},
   "source": [
    "##  Data Loading, Interpretation and Cleaning"
   ]
  },
  {
   "cell_type": "code",
   "execution_count": 20,
   "metadata": {
    "collapsed": true
   },
   "outputs": [],
   "source": [
    "import pandas as pd\n",
    "import numpy as np\n",
    "import matplotlib.pyplot as plt\n",
    "import seaborn as sns\n",
    "import sys\n",
    "import warnings\n",
    "import plotly\n",
    "import plotly.plotly as py\n",
    "import plotly.graph_objs as go\n",
    "import plotly.figure_factory as ff\n",
    "from pandasql import sqldf\n",
    "\n",
    "pysql = lambda q: sqldf(q, globals())\n",
    "%matplotlib inline\n",
    "warnings.filterwarnings('ignore')\n",
    "plotly.tools.set_credentials_file(username='dorismue03', api_key='PKgs6IsONoDHK94JDAla')\n",
    "from plotly.offline import download_plotlyjs, init_notebook_mode, plot, iplot\n",
    "init_notebook_mode()"
   ]
  },
  {
   "cell_type": "code",
   "execution_count": 3,
   "metadata": {},
   "outputs": [
    {
     "data": {
      "text/plain": [
       "(566699, 15)"
      ]
     },
     "execution_count": 3,
     "metadata": {},
     "output_type": "execute_result"
    }
   ],
   "source": [
    "dir = '..../Python_project_eda.csv'\n",
    "df = pd.read_csv(dir)\n",
    "df.shape"
   ]
  },
  {
   "cell_type": "markdown",
   "metadata": {},
   "source": [
    "Tackle missing values"
   ]
  },
  {
   "cell_type": "code",
   "execution_count": 4,
   "metadata": {},
   "outputs": [
    {
     "data": {
      "text/plain": [
       "['clicked_buy_before',\n",
       " 'country',\n",
       " 'made_purchase_before',\n",
       " 'saw_cart_before',\n",
       " 'spend_usd_next_14_days',\n",
       " 'user_added_credit_card',\n",
       " 'user_added_dcb',\n",
       " 'user_added_gift_card',\n",
       " 'user_added_paypal']"
      ]
     },
     "execution_count": 4,
     "metadata": {},
     "output_type": "execute_result"
    }
   ],
   "source": [
    "df.columns[df.isnull().any()].tolist()  \n",
    "# check which columns have missing values."
   ]
  },
  {
   "cell_type": "code",
   "execution_count": 5,
   "metadata": {
    "collapsed": true
   },
   "outputs": [],
   "source": [
    "subset = df.loc[:,(\"clicked_buy_before\",\"saw_cart_before\", \"made_purchase_before\", \"user_added_credit_card\", \"user_added_dcb\",\"user_added_fop\", \"user_added_gift_card\",\"user_added_paypal\", \"spend_usd_next_14_days\")]\n",
    "subset = subset.fillna(0)\n",
    "df.loc[:,(\"clicked_buy_before\",\"saw_cart_before\", \"made_purchase_before\", \"user_added_credit_card\", \"user_added_dcb\",\"user_added_fop\", \"user_added_gift_card\",\"user_added_paypal\", \"spend_usd_next_14_days\")] = subset\n",
    "\n",
    "df[\"country\"] = df['country'].fillna('unknown')"
   ]
  },
  {
   "cell_type": "code",
   "execution_count": 6,
   "metadata": {},
   "outputs": [
    {
     "data": {
      "text/plain": [
       "[]"
      ]
     },
     "execution_count": 6,
     "metadata": {},
     "output_type": "execute_result"
    }
   ],
   "source": [
    "df.columns[df.isnull().any()].tolist()  "
   ]
  },
  {
   "cell_type": "code",
   "execution_count": 7,
   "metadata": {
    "collapsed": true,
    "scrolled": true
   },
   "outputs": [],
   "source": [
    "subset1 = df.loc[:,(\"clicked_buy_before\", \"made_purchase_before\", \"saw_cart_before\", \"user_added_credit_card\", \"user_added_dcb\", \"user_added_gift_card\", \"user_added_paypal\")]\n",
    "subset_conversed = subset1.astype(int)\n",
    "df.loc[:,(\"clicked_buy_before\", \"made_purchase_before\", \"saw_cart_before\", \"user_added_credit_card\", \"user_added_dcb\", \"user_added_gift_card\", \"user_added_paypal\")] = subset_conversed"
   ]
  },
  {
   "cell_type": "code",
   "execution_count": 8,
   "metadata": {
    "scrolled": true
   },
   "outputs": [
    {
     "data": {
      "text/html": [
       "<div>\n",
       "<style>\n",
       "    .dataframe thead tr:only-child th {\n",
       "        text-align: right;\n",
       "    }\n",
       "\n",
       "    .dataframe thead th {\n",
       "        text-align: left;\n",
       "    }\n",
       "\n",
       "    .dataframe tbody tr th {\n",
       "        vertical-align: top;\n",
       "    }\n",
       "</style>\n",
       "<table border=\"1\" class=\"dataframe\">\n",
       "  <thead>\n",
       "    <tr style=\"text-align: right;\">\n",
       "      <th></th>\n",
       "      <th>buyer_week_before</th>\n",
       "      <th>clicked_buy_before</th>\n",
       "      <th>country</th>\n",
       "      <th>existing_buyer</th>\n",
       "      <th>initial_fop_set</th>\n",
       "      <th>made_purchase_before</th>\n",
       "      <th>saw_cart_before</th>\n",
       "      <th>spend_usd_next_14_days</th>\n",
       "      <th>user_added_credit_card</th>\n",
       "      <th>user_added_dcb</th>\n",
       "      <th>user_added_fop</th>\n",
       "      <th>user_added_gift_card</th>\n",
       "      <th>user_added_paypal</th>\n",
       "      <th>user_id</th>\n",
       "      <th>visit_before</th>\n",
       "    </tr>\n",
       "  </thead>\n",
       "  <tbody>\n",
       "    <tr>\n",
       "      <th>0</th>\n",
       "      <td>0</td>\n",
       "      <td>0</td>\n",
       "      <td>IN</td>\n",
       "      <td>0</td>\n",
       "      <td>False</td>\n",
       "      <td>0</td>\n",
       "      <td>1</td>\n",
       "      <td>0.000000</td>\n",
       "      <td>0</td>\n",
       "      <td>0</td>\n",
       "      <td>0</td>\n",
       "      <td>0</td>\n",
       "      <td>0</td>\n",
       "      <td>18321316048201303366</td>\n",
       "      <td>1</td>\n",
       "    </tr>\n",
       "    <tr>\n",
       "      <th>1</th>\n",
       "      <td>0</td>\n",
       "      <td>0</td>\n",
       "      <td>IN</td>\n",
       "      <td>0</td>\n",
       "      <td>False</td>\n",
       "      <td>0</td>\n",
       "      <td>1</td>\n",
       "      <td>0.000000</td>\n",
       "      <td>0</td>\n",
       "      <td>0</td>\n",
       "      <td>0</td>\n",
       "      <td>0</td>\n",
       "      <td>0</td>\n",
       "      <td>13705367724816913241</td>\n",
       "      <td>1</td>\n",
       "    </tr>\n",
       "    <tr>\n",
       "      <th>2</th>\n",
       "      <td>0</td>\n",
       "      <td>0</td>\n",
       "      <td>IN</td>\n",
       "      <td>0</td>\n",
       "      <td>False</td>\n",
       "      <td>0</td>\n",
       "      <td>0</td>\n",
       "      <td>0.000000</td>\n",
       "      <td>0</td>\n",
       "      <td>0</td>\n",
       "      <td>0</td>\n",
       "      <td>0</td>\n",
       "      <td>0</td>\n",
       "      <td>6605724765451655114</td>\n",
       "      <td>0</td>\n",
       "    </tr>\n",
       "    <tr>\n",
       "      <th>3</th>\n",
       "      <td>0</td>\n",
       "      <td>1</td>\n",
       "      <td>CA</td>\n",
       "      <td>1</td>\n",
       "      <td>True</td>\n",
       "      <td>1</td>\n",
       "      <td>1</td>\n",
       "      <td>7.398815</td>\n",
       "      <td>1</td>\n",
       "      <td>0</td>\n",
       "      <td>1</td>\n",
       "      <td>0</td>\n",
       "      <td>0</td>\n",
       "      <td>2340067911948261502</td>\n",
       "      <td>1</td>\n",
       "    </tr>\n",
       "    <tr>\n",
       "      <th>4</th>\n",
       "      <td>7</td>\n",
       "      <td>1</td>\n",
       "      <td>PL</td>\n",
       "      <td>1</td>\n",
       "      <td>True</td>\n",
       "      <td>1</td>\n",
       "      <td>1</td>\n",
       "      <td>0.000000</td>\n",
       "      <td>0</td>\n",
       "      <td>1</td>\n",
       "      <td>1</td>\n",
       "      <td>0</td>\n",
       "      <td>0</td>\n",
       "      <td>11891045596810635427</td>\n",
       "      <td>1</td>\n",
       "    </tr>\n",
       "    <tr>\n",
       "      <th>5</th>\n",
       "      <td>0</td>\n",
       "      <td>0</td>\n",
       "      <td>ID</td>\n",
       "      <td>0</td>\n",
       "      <td>False</td>\n",
       "      <td>0</td>\n",
       "      <td>1</td>\n",
       "      <td>0.000000</td>\n",
       "      <td>0</td>\n",
       "      <td>0</td>\n",
       "      <td>0</td>\n",
       "      <td>0</td>\n",
       "      <td>0</td>\n",
       "      <td>16960375743361213328</td>\n",
       "      <td>1</td>\n",
       "    </tr>\n",
       "    <tr>\n",
       "      <th>6</th>\n",
       "      <td>0</td>\n",
       "      <td>1</td>\n",
       "      <td>TH</td>\n",
       "      <td>0</td>\n",
       "      <td>True</td>\n",
       "      <td>1</td>\n",
       "      <td>1</td>\n",
       "      <td>0.000000</td>\n",
       "      <td>0</td>\n",
       "      <td>1</td>\n",
       "      <td>1</td>\n",
       "      <td>0</td>\n",
       "      <td>0</td>\n",
       "      <td>14845700381773612658</td>\n",
       "      <td>1</td>\n",
       "    </tr>\n",
       "    <tr>\n",
       "      <th>7</th>\n",
       "      <td>0</td>\n",
       "      <td>0</td>\n",
       "      <td>ID</td>\n",
       "      <td>0</td>\n",
       "      <td>False</td>\n",
       "      <td>0</td>\n",
       "      <td>1</td>\n",
       "      <td>0.000000</td>\n",
       "      <td>0</td>\n",
       "      <td>0</td>\n",
       "      <td>0</td>\n",
       "      <td>0</td>\n",
       "      <td>0</td>\n",
       "      <td>1407472760358057975</td>\n",
       "      <td>1</td>\n",
       "    </tr>\n",
       "    <tr>\n",
       "      <th>8</th>\n",
       "      <td>0</td>\n",
       "      <td>0</td>\n",
       "      <td>unknown</td>\n",
       "      <td>0</td>\n",
       "      <td>False</td>\n",
       "      <td>0</td>\n",
       "      <td>1</td>\n",
       "      <td>0.000000</td>\n",
       "      <td>0</td>\n",
       "      <td>0</td>\n",
       "      <td>0</td>\n",
       "      <td>0</td>\n",
       "      <td>0</td>\n",
       "      <td>795175088989280187</td>\n",
       "      <td>1</td>\n",
       "    </tr>\n",
       "    <tr>\n",
       "      <th>9</th>\n",
       "      <td>0</td>\n",
       "      <td>0</td>\n",
       "      <td>GR</td>\n",
       "      <td>0</td>\n",
       "      <td>False</td>\n",
       "      <td>0</td>\n",
       "      <td>1</td>\n",
       "      <td>0.000000</td>\n",
       "      <td>0</td>\n",
       "      <td>0</td>\n",
       "      <td>0</td>\n",
       "      <td>0</td>\n",
       "      <td>0</td>\n",
       "      <td>6034351615620544692</td>\n",
       "      <td>1</td>\n",
       "    </tr>\n",
       "  </tbody>\n",
       "</table>\n",
       "</div>"
      ],
      "text/plain": [
       "   buyer_week_before  clicked_buy_before  country  existing_buyer  \\\n",
       "0                  0                   0       IN               0   \n",
       "1                  0                   0       IN               0   \n",
       "2                  0                   0       IN               0   \n",
       "3                  0                   1       CA               1   \n",
       "4                  7                   1       PL               1   \n",
       "5                  0                   0       ID               0   \n",
       "6                  0                   1       TH               0   \n",
       "7                  0                   0       ID               0   \n",
       "8                  0                   0  unknown               0   \n",
       "9                  0                   0       GR               0   \n",
       "\n",
       "   initial_fop_set  made_purchase_before  saw_cart_before  \\\n",
       "0            False                     0                1   \n",
       "1            False                     0                1   \n",
       "2            False                     0                0   \n",
       "3             True                     1                1   \n",
       "4             True                     1                1   \n",
       "5            False                     0                1   \n",
       "6             True                     1                1   \n",
       "7            False                     0                1   \n",
       "8            False                     0                1   \n",
       "9            False                     0                1   \n",
       "\n",
       "   spend_usd_next_14_days  user_added_credit_card  user_added_dcb  \\\n",
       "0                0.000000                       0               0   \n",
       "1                0.000000                       0               0   \n",
       "2                0.000000                       0               0   \n",
       "3                7.398815                       1               0   \n",
       "4                0.000000                       0               1   \n",
       "5                0.000000                       0               0   \n",
       "6                0.000000                       0               1   \n",
       "7                0.000000                       0               0   \n",
       "8                0.000000                       0               0   \n",
       "9                0.000000                       0               0   \n",
       "\n",
       "   user_added_fop  user_added_gift_card  user_added_paypal  \\\n",
       "0               0                     0                  0   \n",
       "1               0                     0                  0   \n",
       "2               0                     0                  0   \n",
       "3               1                     0                  0   \n",
       "4               1                     0                  0   \n",
       "5               0                     0                  0   \n",
       "6               1                     0                  0   \n",
       "7               0                     0                  0   \n",
       "8               0                     0                  0   \n",
       "9               0                     0                  0   \n",
       "\n",
       "                user_id  visit_before  \n",
       "0  18321316048201303366             1  \n",
       "1  13705367724816913241             1  \n",
       "2   6605724765451655114             0  \n",
       "3   2340067911948261502             1  \n",
       "4  11891045596810635427             1  \n",
       "5  16960375743361213328             1  \n",
       "6  14845700381773612658             1  \n",
       "7   1407472760358057975             1  \n",
       "8    795175088989280187             1  \n",
       "9   6034351615620544692             1  "
      ]
     },
     "execution_count": 8,
     "metadata": {},
     "output_type": "execute_result"
    }
   ],
   "source": [
    "df.head(10)"
   ]
  },
  {
   "cell_type": "markdown",
   "metadata": {},
   "source": [
    "Tackle outliers"
   ]
  },
  {
   "cell_type": "code",
   "execution_count": 9,
   "metadata": {},
   "outputs": [
    {
     "data": {
      "text/html": [
       "<div>\n",
       "<style>\n",
       "    .dataframe thead tr:only-child th {\n",
       "        text-align: right;\n",
       "    }\n",
       "\n",
       "    .dataframe thead th {\n",
       "        text-align: left;\n",
       "    }\n",
       "\n",
       "    .dataframe tbody tr th {\n",
       "        vertical-align: top;\n",
       "    }\n",
       "</style>\n",
       "<table border=\"1\" class=\"dataframe\">\n",
       "  <thead>\n",
       "    <tr style=\"text-align: right;\">\n",
       "      <th></th>\n",
       "      <th>buyer_week_before</th>\n",
       "      <th>clicked_buy_before</th>\n",
       "      <th>existing_buyer</th>\n",
       "      <th>made_purchase_before</th>\n",
       "      <th>saw_cart_before</th>\n",
       "      <th>spend_usd_next_14_days</th>\n",
       "      <th>user_added_credit_card</th>\n",
       "      <th>user_added_dcb</th>\n",
       "      <th>user_added_fop</th>\n",
       "      <th>user_added_gift_card</th>\n",
       "      <th>user_added_paypal</th>\n",
       "      <th>user_id</th>\n",
       "      <th>visit_before</th>\n",
       "    </tr>\n",
       "  </thead>\n",
       "  <tbody>\n",
       "    <tr>\n",
       "      <th>count</th>\n",
       "      <td>566699.000000</td>\n",
       "      <td>566699.000000</td>\n",
       "      <td>566699.000000</td>\n",
       "      <td>566699.000000</td>\n",
       "      <td>566699.000000</td>\n",
       "      <td>566699.000000</td>\n",
       "      <td>566699.000000</td>\n",
       "      <td>566699.000000</td>\n",
       "      <td>566699.000000</td>\n",
       "      <td>566699.000000</td>\n",
       "      <td>566699.000000</td>\n",
       "      <td>5.666990e+05</td>\n",
       "      <td>566699.000000</td>\n",
       "    </tr>\n",
       "    <tr>\n",
       "      <th>mean</th>\n",
       "      <td>0.621745</td>\n",
       "      <td>0.225458</td>\n",
       "      <td>0.268135</td>\n",
       "      <td>0.184654</td>\n",
       "      <td>0.816589</td>\n",
       "      <td>10.653198</td>\n",
       "      <td>0.165135</td>\n",
       "      <td>0.144371</td>\n",
       "      <td>0.301036</td>\n",
       "      <td>0.055666</td>\n",
       "      <td>0.030085</td>\n",
       "      <td>9.222149e+18</td>\n",
       "      <td>0.874609</td>\n",
       "    </tr>\n",
       "    <tr>\n",
       "      <th>std</th>\n",
       "      <td>1.701956</td>\n",
       "      <td>0.417884</td>\n",
       "      <td>0.442989</td>\n",
       "      <td>0.388017</td>\n",
       "      <td>0.387004</td>\n",
       "      <td>88.375608</td>\n",
       "      <td>0.371303</td>\n",
       "      <td>0.351466</td>\n",
       "      <td>0.458709</td>\n",
       "      <td>0.229276</td>\n",
       "      <td>0.170821</td>\n",
       "      <td>5.319984e+18</td>\n",
       "      <td>0.331162</td>\n",
       "    </tr>\n",
       "    <tr>\n",
       "      <th>min</th>\n",
       "      <td>0.000000</td>\n",
       "      <td>0.000000</td>\n",
       "      <td>0.000000</td>\n",
       "      <td>0.000000</td>\n",
       "      <td>0.000000</td>\n",
       "      <td>0.000000</td>\n",
       "      <td>0.000000</td>\n",
       "      <td>0.000000</td>\n",
       "      <td>0.000000</td>\n",
       "      <td>0.000000</td>\n",
       "      <td>0.000000</td>\n",
       "      <td>9.099261e+12</td>\n",
       "      <td>0.000000</td>\n",
       "    </tr>\n",
       "    <tr>\n",
       "      <th>25%</th>\n",
       "      <td>0.000000</td>\n",
       "      <td>0.000000</td>\n",
       "      <td>0.000000</td>\n",
       "      <td>0.000000</td>\n",
       "      <td>1.000000</td>\n",
       "      <td>0.000000</td>\n",
       "      <td>0.000000</td>\n",
       "      <td>0.000000</td>\n",
       "      <td>0.000000</td>\n",
       "      <td>0.000000</td>\n",
       "      <td>0.000000</td>\n",
       "      <td>4.614402e+18</td>\n",
       "      <td>1.000000</td>\n",
       "    </tr>\n",
       "    <tr>\n",
       "      <th>50%</th>\n",
       "      <td>0.000000</td>\n",
       "      <td>0.000000</td>\n",
       "      <td>0.000000</td>\n",
       "      <td>0.000000</td>\n",
       "      <td>1.000000</td>\n",
       "      <td>0.000000</td>\n",
       "      <td>0.000000</td>\n",
       "      <td>0.000000</td>\n",
       "      <td>0.000000</td>\n",
       "      <td>0.000000</td>\n",
       "      <td>0.000000</td>\n",
       "      <td>9.218982e+18</td>\n",
       "      <td>1.000000</td>\n",
       "    </tr>\n",
       "    <tr>\n",
       "      <th>75%</th>\n",
       "      <td>0.000000</td>\n",
       "      <td>0.000000</td>\n",
       "      <td>1.000000</td>\n",
       "      <td>0.000000</td>\n",
       "      <td>1.000000</td>\n",
       "      <td>0.000000</td>\n",
       "      <td>0.000000</td>\n",
       "      <td>0.000000</td>\n",
       "      <td>1.000000</td>\n",
       "      <td>0.000000</td>\n",
       "      <td>0.000000</td>\n",
       "      <td>1.382236e+19</td>\n",
       "      <td>1.000000</td>\n",
       "    </tr>\n",
       "    <tr>\n",
       "      <th>max</th>\n",
       "      <td>8.000000</td>\n",
       "      <td>1.000000</td>\n",
       "      <td>1.000000</td>\n",
       "      <td>1.000000</td>\n",
       "      <td>1.000000</td>\n",
       "      <td>22519.570000</td>\n",
       "      <td>1.000000</td>\n",
       "      <td>1.000000</td>\n",
       "      <td>1.000000</td>\n",
       "      <td>1.000000</td>\n",
       "      <td>1.000000</td>\n",
       "      <td>1.844674e+19</td>\n",
       "      <td>1.000000</td>\n",
       "    </tr>\n",
       "  </tbody>\n",
       "</table>\n",
       "</div>"
      ],
      "text/plain": [
       "       buyer_week_before  clicked_buy_before  existing_buyer  \\\n",
       "count      566699.000000       566699.000000   566699.000000   \n",
       "mean            0.621745            0.225458        0.268135   \n",
       "std             1.701956            0.417884        0.442989   \n",
       "min             0.000000            0.000000        0.000000   \n",
       "25%             0.000000            0.000000        0.000000   \n",
       "50%             0.000000            0.000000        0.000000   \n",
       "75%             0.000000            0.000000        1.000000   \n",
       "max             8.000000            1.000000        1.000000   \n",
       "\n",
       "       made_purchase_before  saw_cart_before  spend_usd_next_14_days  \\\n",
       "count         566699.000000    566699.000000           566699.000000   \n",
       "mean               0.184654         0.816589               10.653198   \n",
       "std                0.388017         0.387004               88.375608   \n",
       "min                0.000000         0.000000                0.000000   \n",
       "25%                0.000000         1.000000                0.000000   \n",
       "50%                0.000000         1.000000                0.000000   \n",
       "75%                0.000000         1.000000                0.000000   \n",
       "max                1.000000         1.000000            22519.570000   \n",
       "\n",
       "       user_added_credit_card  user_added_dcb  user_added_fop  \\\n",
       "count           566699.000000   566699.000000   566699.000000   \n",
       "mean                 0.165135        0.144371        0.301036   \n",
       "std                  0.371303        0.351466        0.458709   \n",
       "min                  0.000000        0.000000        0.000000   \n",
       "25%                  0.000000        0.000000        0.000000   \n",
       "50%                  0.000000        0.000000        0.000000   \n",
       "75%                  0.000000        0.000000        1.000000   \n",
       "max                  1.000000        1.000000        1.000000   \n",
       "\n",
       "       user_added_gift_card  user_added_paypal       user_id   visit_before  \n",
       "count         566699.000000      566699.000000  5.666990e+05  566699.000000  \n",
       "mean               0.055666           0.030085  9.222149e+18       0.874609  \n",
       "std                0.229276           0.170821  5.319984e+18       0.331162  \n",
       "min                0.000000           0.000000  9.099261e+12       0.000000  \n",
       "25%                0.000000           0.000000  4.614402e+18       1.000000  \n",
       "50%                0.000000           0.000000  9.218982e+18       1.000000  \n",
       "75%                0.000000           0.000000  1.382236e+19       1.000000  \n",
       "max                1.000000           1.000000  1.844674e+19       1.000000  "
      ]
     },
     "execution_count": 9,
     "metadata": {},
     "output_type": "execute_result"
    }
   ],
   "source": [
    "df.describe() \n",
    "# max of \"spend for the next 14 days\" is 22519 dollars, which seems irregular"
   ]
  },
  {
   "cell_type": "markdown",
   "metadata": {},
   "source": [
    "Ourliers sometimes misguide the analysis and therefore lead to incorrect results. Avoiding this I will use a method named winsorization to replace the outliers."
   ]
  },
  {
   "cell_type": "code",
   "execution_count": 10,
   "metadata": {},
   "outputs": [
    {
     "data": {
      "text/plain": [
       "<matplotlib.axes._subplots.AxesSubplot at 0x10af83d50>"
      ]
     },
     "execution_count": 10,
     "metadata": {},
     "output_type": "execute_result"
    },
    {
     "data": {
      "image/png": "[encoded data removed]",
      "text/plain": [
       "<matplotlib.figure.Figure at 0x10b82e750>"
      ]
     },
     "metadata": {},
     "output_type": "display_data"
    }
   ],
   "source": [
    "def winsorize_series(s):\n",
    "    lower = s.quantile(0.05)\n",
    "    upper = s.quantile(0.95)\n",
    "    s[s < lower] = lower\n",
    "    s[s > upper] = upper\n",
    "    return s\n",
    "\n",
    "df.spend_usd_next_14_days = winsorize_series(df.spend_usd_next_14_days)\n",
    "sns.boxplot(data=df, x=\"spend_usd_next_14_days\")"
   ]
  },
  {
   "cell_type": "markdown",
   "metadata": {},
   "source": [
    "## Exploratory Data Analysis for Business Insights"
   ]
  },
  {
   "cell_type": "markdown",
   "metadata": {},
   "source": [
    "### Insight 1: Adding gift cards to acounnts make a increase on spending "
   ]
  },
  {
   "cell_type": "code",
   "execution_count": 11,
   "metadata": {
    "collapsed": true
   },
   "outputs": [],
   "source": [
    "rev_by_fop = df.pivot_table(values=[\"spend_usd_next_14_days\"], index = [\"user_added_fop\"]).reset_index()\n",
    "rev_by_creditcard = df.pivot_table(values=[\"spend_usd_next_14_days\"], index = [\"user_added_credit_card\"]).reset_index()\n",
    "rev_by_dcb = df.pivot_table(values=[\"spend_usd_next_14_days\"], index = [\"user_added_dcb\"]).reset_index()\n",
    "rev_by_giftcard = df.pivot_table(values=[\"spend_usd_next_14_days\"], index = [\"user_added_gift_card\"]).reset_index()\n",
    "rev_by_paypal = df.pivot_table(values=[\"spend_usd_next_14_days\"], index = [\"user_added_paypal\"]).reset_index()"
   ]
  },
  {
   "cell_type": "code",
   "execution_count": 12,
   "metadata": {},
   "outputs": [
    {
     "data": {
      "text/html": [
       "<div>\n",
       "<style>\n",
       "    .dataframe thead tr:only-child th {\n",
       "        text-align: right;\n",
       "    }\n",
       "\n",
       "    .dataframe thead th {\n",
       "        text-align: left;\n",
       "    }\n",
       "\n",
       "    .dataframe tbody tr th {\n",
       "        vertical-align: top;\n",
       "    }\n",
       "</style>\n",
       "<table border=\"1\" class=\"dataframe\">\n",
       "  <thead>\n",
       "    <tr style=\"text-align: right;\">\n",
       "      <th></th>\n",
       "      <th>user_added_dcb</th>\n",
       "      <th>spend_usd_next_14_days</th>\n",
       "    </tr>\n",
       "  </thead>\n",
       "  <tbody>\n",
       "    <tr>\n",
       "      <th>0</th>\n",
       "      <td>0</td>\n",
       "      <td>1.780222</td>\n",
       "    </tr>\n",
       "    <tr>\n",
       "      <th>1</th>\n",
       "      <td>1</td>\n",
       "      <td>10.736883</td>\n",
       "    </tr>\n",
       "  </tbody>\n",
       "</table>\n",
       "</div>"
      ],
      "text/plain": [
       "   user_added_dcb  spend_usd_next_14_days\n",
       "0               0                1.780222\n",
       "1               1               10.736883"
      ]
     },
     "execution_count": 12,
     "metadata": {},
     "output_type": "execute_result"
    }
   ],
   "source": [
    "rev_by_dcb"
   ]
  },
  {
   "cell_type": "code",
   "execution_count": 21,
   "metadata": {},
   "outputs": [
    {
     "name": "stdout",
     "output_type": "stream",
     "text": [
      "High five! You successfully sent some data to your account on plotly. View your plot in your browser at https://plot.ly/~dorismue03/0 or inside your plot.ly account where it is named 'plot from API'\n"
     ]
    },
    {
     "data": {
      "text/html": [
       "<iframe id=\"igraph\" scrolling=\"no\" style=\"border:none;\" seamless=\"seamless\" src=\"https://plot.ly/~dorismue03/0.embed\" height=\"525px\" width=\"100%\"></iframe>"
      ],
      "text/plain": [
       "<plotly.tools.PlotlyDisplay object>"
      ]
     },
     "execution_count": 21,
     "metadata": {},
     "output_type": "execute_result"
    }
   ],
   "source": [
    "x = [\"No\", \"Yes\"]\n",
    "y1 = rev_by_fop[\"spend_usd_next_14_days\"].tolist()\n",
    "y2 = rev_by_creditcard[\"spend_usd_next_14_days\"].tolist()\n",
    "y3 = rev_by_dcb[\"spend_usd_next_14_days\"].tolist()\n",
    "y4 = rev_by_giftcard[\"spend_usd_next_14_days\"].tolist()\n",
    "y5 = rev_by_paypal[\"spend_usd_next_14_days\"].tolist()\n",
    "\n",
    "trace1 = go.Bar(x = x,\n",
    "                y = y1,\n",
    "                name = \"any form of payment\",\n",
    "                marker = dict(\n",
    "                    line = dict(\n",
    "                        color = \"rgb(8,48,107)\", \n",
    "                        width = 1\n",
    "                    )\n",
    "                )\n",
    "               )\n",
    "\n",
    "trace2 = go.Bar(x = x,\n",
    "                y = y2,\n",
    "                name = \"credit card\",\n",
    "                marker = dict(\n",
    "                    line = dict(\n",
    "                        color = \"rgb(8,48,107)\", \n",
    "                        width = 1\n",
    "                    )\n",
    "                )\n",
    "               )\n",
    "\n",
    "trace3 = go.Bar(x = x,\n",
    "                y = y3,\n",
    "                name = \"direct carrier billing\",\n",
    "                marker = dict(\n",
    "                    line = dict(\n",
    "                        color = \"rgb(8,48,107)\", \n",
    "                        width = 1\n",
    "                    )\n",
    "                )\n",
    "               )\n",
    "\n",
    "trace4 = go.Bar(x = x,\n",
    "                y = y4,\n",
    "                name = \"gift card\",\n",
    "                marker = dict(\n",
    "                    line = dict(\n",
    "                        color = \"rgb(8,48,107)\", \n",
    "                        width = 1\n",
    "                    )\n",
    "                )\n",
    "               )\n",
    "\n",
    "trace5 = go.Bar(x = x,\n",
    "                y = y5,\n",
    "                name = \"paypal\",\n",
    "                marker = dict(\n",
    "                    line = dict(\n",
    "                        color = \"rgb(8,48,107)\", \n",
    "                        width = 1\n",
    "                    )\n",
    "                )\n",
    "               )\n",
    "\n",
    "layout = go.Layout(title = \"Spending Gaps by Payment Forms Added\",\n",
    "                   xaxis = dict(\n",
    "                       title = \"Form of Payment Added\"),\n",
    "                   yaxis = dict(\n",
    "                       title = \"Avg Spend for Next 14 Days\",\n",
    "                       showgrid = False),\n",
    "                   barmode = \"group\", \n",
    "                   showlegend = True\n",
    "                  )\n",
    "\n",
    "data = [trace1, trace2, trace3, trace4, trace5]\n",
    "fig = go.Figure(data = data, layout = layout)\n",
    "\n",
    "py.iplot(fig)\n",
    "                       \n",
    "                       "
   ]
  },
  {
   "cell_type": "markdown",
   "metadata": {},
   "source": [
    "### Recommendation 1"
   ]
  },
  {
   "cell_type": "markdown",
   "metadata": {},
   "source": [
    "A great increase of spend shows when customers add gift cards to their accounts. Given this I get the first insight that we can increse revenue for the next quarter by incentivizing cusotmers to add gift cards to their accounts. In order to incentivize them, we show a mesaage under the check out button saying \"Good News! You can also check out this item through our gift card!\" and then offer a link to gift card purchase page. "
   ]
  },
  {
   "cell_type": "markdown",
   "metadata": {},
   "source": [
    "### Insight 2: A large gap between adding a cart and clicking checkout"
   ]
  },
  {
   "cell_type": "code",
   "execution_count": 22,
   "metadata": {
    "collapsed": true
   },
   "outputs": [],
   "source": [
    "visit = len(df[df[\"visit_before\"] == 1])\n",
    "add_to_cart = len(df[df[\"saw_cart_before\"] == 1])\n",
    "click_buy = len(df[df[\"clicked_buy_before\"] == 1])\n",
    "make_purchase = len(df[df[\"made_purchase_before\"] == 1])"
   ]
  },
  {
   "cell_type": "code",
   "execution_count": 23,
   "metadata": {},
   "outputs": [
    {
     "data": {
      "text/html": [
       "<iframe id=\"igraph\" scrolling=\"no\" style=\"border:none;\" seamless=\"seamless\" src=\"https://plot.ly/~dorismue03/2.embed\" height=\"200px\" width=\"100%\"></iframe>"
      ],
      "text/plain": [
       "<plotly.tools.PlotlyDisplay object>"
      ]
     },
     "execution_count": 23,
     "metadata": {},
     "output_type": "execute_result"
    }
   ],
   "source": [
    "data = [['Phases', 'Number', \"Conversion Rate\"],\n",
    "        ['Visit', 495640, \"100%\"],\n",
    "        ['Add to Cart', 462760, \"93.37%\"],\n",
    "        ['Click Buy', 127767, \"25.78%\"],\n",
    "        ['Make Purchase', 104643, \"21.11%\"]\n",
    "        ]\n",
    "\n",
    "funnel_table = ff.create_table(data)\n",
    "py.iplot(funnel_table)"
   ]
  },
  {
   "cell_type": "code",
   "execution_count": 24,
   "metadata": {
    "scrolled": true
   },
   "outputs": [
    {
     "data": {
      "text/html": [
       "<iframe id=\"igraph\" scrolling=\"no\" style=\"border:none;\" seamless=\"seamless\" src=\"https://plot.ly/~dorismue03/4.embed\" height=\"560px\" width=\"800px\"></iframe>"
      ],
      "text/plain": [
       "<plotly.tools.PlotlyDisplay object>"
      ]
     },
     "execution_count": 24,
     "metadata": {},
     "output_type": "execute_result"
    }
   ],
   "source": [
    "values = [495.64, 462.76, 127.767, 104.643]\n",
    "phases = ['Visit', 'Add to Cart', \"Checkout\", 'Purchase']\n",
    "\n",
    "# color of each funnel section\n",
    "colors = ['rgb(32,155,160)', 'rgb(253,93,124)', 'rgb(28,119,139)', 'rgb(182,231,235)', 'rgb(35,154,160)']\n",
    "\n",
    "n_phase = len(phases)\n",
    "plot_width = 400\n",
    "\n",
    "# height of a section and difference between sections \n",
    "section_h = 100\n",
    "section_d = 10\n",
    "\n",
    "# multiplication factor to calculate the width of other sections\n",
    "unit_width = plot_width / max(values)\n",
    "\n",
    "# width of each funnel section relative to the plot width\n",
    "phase_w = [int(value * unit_width) for value in values]\n",
    "\n",
    "# plot height based on the number of sections and the gap in between them\n",
    "height = section_h * n_phase + section_d * (n_phase - 1)\n",
    "\n",
    "\n",
    "# list containing all the plot shapes\n",
    "shapes = []\n",
    "\n",
    "# list containing the Y-axis location for each section's name and value text\n",
    "label_y = []\n",
    "\n",
    "for i in range(n_phase):\n",
    "        if (i == n_phase-1):\n",
    "                points = [phase_w[i] / 2, height, phase_w[i] / 2, height - section_h]\n",
    "        else:\n",
    "                points = [phase_w[i] / 2, height, phase_w[i+1] / 2, height - section_h]\n",
    "\n",
    "        path = 'M {0} {1} L {2} {3} L -{2} {3} L -{0} {1} Z'.format(*points)\n",
    "\n",
    "        shape = {\n",
    "                'type': 'path',\n",
    "                'path': path,\n",
    "                'fillcolor': colors[i],\n",
    "                'line': {\n",
    "                    'width': 1,\n",
    "                    'color': colors[i]\n",
    "                }\n",
    "        }\n",
    "        shapes.append(shape)\n",
    "        \n",
    "        # Y-axis location for this section's details (text)\n",
    "        label_y.append(height - (section_h / 2))\n",
    "\n",
    "        height = height - (section_h + section_d)\n",
    "\n",
    "# For phase names\n",
    "label_trace = go.Scatter(\n",
    "    x=[-320]*n_phase,\n",
    "    y=label_y,\n",
    "    mode='text',\n",
    "    text=phases,\n",
    "    textfont=dict(\n",
    "        color='rgb(200,200,200)',\n",
    "        size=15\n",
    "    )\n",
    ")\n",
    " \n",
    "# For phase values\n",
    "value_trace = go.Scatter(\n",
    "    x=[320]*n_phase,\n",
    "    y=label_y,\n",
    "    mode='text',\n",
    "    text=[\"100%\", \"93.37%\", \"25.78%\", \"21.11%\"],\n",
    "    textfont=dict(\n",
    "        color='rgb(200,200,200)',\n",
    "        size=15\n",
    "    )\n",
    ")\n",
    "\n",
    "data = [label_trace, value_trace]\n",
    " \n",
    "layout = go.Layout(\n",
    "    title=\"<b>Funnel Chart</b>\",\n",
    "    titlefont=dict(\n",
    "        size=20,\n",
    "        color='rgb(203,203,203)'\n",
    "    ),\n",
    "    shapes=shapes,\n",
    "    height=560,\n",
    "    width=800,\n",
    "    showlegend=False,\n",
    "    paper_bgcolor='rgba(44,58,71,1)',\n",
    "    plot_bgcolor='rgba(44,58,71,1)',\n",
    "    xaxis=dict(\n",
    "        showticklabels=False,\n",
    "        zeroline=False,\n",
    "    ),\n",
    "    yaxis=dict(\n",
    "        showticklabels=False,\n",
    "        zeroline=False\n",
    "    )\n",
    ")\n",
    " \n",
    "fig = go.Figure(data=data, layout=layout)\n",
    "py.iplot(fig)\n"
   ]
  },
  {
   "cell_type": "markdown",
   "metadata": {},
   "source": [
    "### Recommendation 3"
   ]
  },
  {
   "cell_type": "markdown",
   "metadata": {},
   "source": [
    "The funnel shows there is a steep decrease in number when users who added a cart click checkout buttons. If we can take meaaures to lower the number of decrease we will make a increase in revenues. "
   ]
  },
  {
   "cell_type": "markdown",
   "metadata": {},
   "source": [
    "Recommendation: we should sent direct eamils to cusotmers who have been dormant for 3+ days after adding items to cart to remind them to check out. "
   ]
  },
  {
   "cell_type": "markdown",
   "metadata": {},
   "source": [
    "### Insight 3: Spending for the next two weeks arise critically comparing between purchase weeks equal to 7 and purchase weeks equal to 8"
   ]
  },
  {
   "cell_type": "code",
   "execution_count": 33,
   "metadata": {
    "scrolled": true
   },
   "outputs": [
    {
     "data": {
      "text/html": [
       "<iframe id=\"igraph\" scrolling=\"no\" style=\"border:none;\" seamless=\"seamless\" src=\"https://plot.ly/~dorismue03/8.embed\" height=\"525px\" width=\"100%\"></iframe>"
      ],
      "text/plain": [
       "<plotly.tools.PlotlyDisplay object>"
      ]
     },
     "execution_count": 33,
     "metadata": {},
     "output_type": "execute_result"
    }
   ],
   "source": [
    "total_spend_by_user_type = df.pivot_table(values = [\"spend_usd_next_14_days\"], index = [\"existing_buyer\"], aggfunc=sum).reset_index()\n",
    "\n",
    "\n",
    "x = [\"No\", \"Yes\"]\n",
    "y = total_spend_by_user_type[\"spend_usd_next_14_days\"].tolist()\n",
    "\n",
    "data = [go.Bar(x = x, y = y, width = 0.5)]\n",
    "layout = go.Layout(title = \"Total Spending by User Type\",\n",
    "                   xaxis = dict(title = \"existing buyer\"),\n",
    "                   yaxis = dict(title = \"total spend\")\n",
    "                   \n",
    "                  )\n",
    "\n",
    "fig = go.Figure(data = data, layout = layout)\n",
    "py.iplot(fig)"
   ]
  },
  {
   "cell_type": "markdown",
   "metadata": {},
   "source": [
    "We can see from the above graph, total spending for the next 14 days arise significantly if it is an existing customers."
   ]
  },
  {
   "cell_type": "markdown",
   "metadata": {},
   "source": [
    "Then I am thinking which groups of the existing customers we should target? the Whole or some segments."
   ]
  },
  {
   "cell_type": "code",
   "execution_count": 42,
   "metadata": {},
   "outputs": [
    {
     "data": {
      "image/png": "[encoded data removed]",
      "text/plain": [
       "<matplotlib.figure.Figure at 0x10cdd36d0>"
      ]
     },
     "metadata": {},
     "output_type": "display_data"
    }
   ],
   "source": [
    "fig, ax = plt.subplots(figsize = (8,6))\n",
    "ax = existing_buyer.groupby(\"buyer_week_before\")[\"spend_usd_next_14_days\"].sum().plot()\n",
    "ax.set_title(\"spending by purchase weeks before\")\n",
    "plt.show();"
   ]
  },
  {
   "cell_type": "markdown",
   "metadata": {},
   "source": [
    "### Recommendation 3"
   ]
  },
  {
   "cell_type": "markdown",
   "metadata": {},
   "source": [
    "If buyers make a purchase every week in the past 8 weeks , he would have a steep increase in spending for the next 14 days, compared to those whose number of weeks making a purchase is 7."
   ]
  },
  {
   "cell_type": "markdown",
   "metadata": {},
   "source": [
    "Recommendation: I will target the US buyers who have 7 weeks making a purchase out of every 8 weeks and send coupons to incentivize them to make more purchases. "
   ]
  },
  {
   "cell_type": "markdown",
   "metadata": {},
   "source": [
    "## Experiment Design"
   ]
  },
  {
   "cell_type": "markdown",
   "metadata": {},
   "source": [
    "### Marketing Campaign "
   ]
  },
  {
   "cell_type": "markdown",
   "metadata": {},
   "source": [
    "Now I select one of the three insights to carry out an experiment in order to examine its impact on the total revenue increase. <br>\n",
    "Strategy: Conduct a markeing campaign targeting the US existing customers who spent 7 weeks out of every 8 weeks. In the marketing campaign, we send coupons by direct emails to incentivize them to purchase more.<br>\n",
    "Senario: David was considering to buy a new earphone but he thought the curent one was ok, so buying a new one was not urgent. However when he gets the coupon he thinks it is a good idea to but it now."
   ]
  },
  {
   "cell_type": "markdown",
   "metadata": {},
   "source": [
    "### A/B Test Design\n",
    "Business Goal: increase total revenue for Q3 by 5%<br>\n",
    "Metric: Total spent USD <br>\n",
    "Population: all exiting costumers who have 7 weeks of purchase out of every 8 weeks.<br>\n",
    "Sample Size: In order to get 80% of statistical power, 5% of significance level and 5% of sentivity, a sample size of 6282 is needed to be reached.<br>\n",
    "Experiment Launches: Randomly select two groups (treatment vs. control) with each group size 6282.<br>\n",
    "Treament Group: cusomters in the treatment group will see coupons sent by direct emails: Every 50 dollars you spent in the next 14 days, you got 10 dollars off your purchase. <br>\n",
    "Testing Approach: Two Sample t-test<br>\n",
    "Duration: 1 Week (computed according to daily traffic and sample size required)"
   ]
  },
  {
   "cell_type": "markdown",
   "metadata": {},
   "source": [
    "### Sanity Check"
   ]
  },
  {
   "cell_type": "markdown",
   "metadata": {},
   "source": [
    "Done with data gathering, I need to do sanity check first on the invariant metrics. <br>\n",
    "invariant metrics: total number of records for each group<br>"
   ]
  },
  {
   "cell_type": "code",
   "execution_count": 44,
   "metadata": {},
   "outputs": [
    {
     "data": {
      "text/html": [
       "<div>\n",
       "<style>\n",
       "    .dataframe thead tr:only-child th {\n",
       "        text-align: right;\n",
       "    }\n",
       "\n",
       "    .dataframe thead th {\n",
       "        text-align: left;\n",
       "    }\n",
       "\n",
       "    .dataframe tbody tr th {\n",
       "        vertical-align: top;\n",
       "    }\n",
       "</style>\n",
       "<table border=\"1\" class=\"dataframe\">\n",
       "  <thead>\n",
       "    <tr style=\"text-align: right;\">\n",
       "      <th></th>\n",
       "      <th>country</th>\n",
       "      <th>date</th>\n",
       "      <th>experiment_id</th>\n",
       "      <th>order_id</th>\n",
       "      <th>spend_usd</th>\n",
       "      <th>user_bucket</th>\n",
       "      <th>user_id</th>\n",
       "      <th>vertical</th>\n",
       "    </tr>\n",
       "  </thead>\n",
       "  <tbody>\n",
       "    <tr>\n",
       "      <th>0</th>\n",
       "      <td>IT</td>\n",
       "      <td>2017-04-01</td>\n",
       "      <td>12624549</td>\n",
       "      <td>1.593530e+18</td>\n",
       "      <td>3.799427</td>\n",
       "      <td>12</td>\n",
       "      <td>3.454650e+18</td>\n",
       "      <td>GAMES</td>\n",
       "    </tr>\n",
       "    <tr>\n",
       "      <th>1</th>\n",
       "      <td>BR</td>\n",
       "      <td>2017-04-01</td>\n",
       "      <td>12624548</td>\n",
       "      <td>5.746750e+18</td>\n",
       "      <td>2.546213</td>\n",
       "      <td>9</td>\n",
       "      <td>9.303510e+18</td>\n",
       "      <td>GAMES</td>\n",
       "    </tr>\n",
       "    <tr>\n",
       "      <th>2</th>\n",
       "      <td>NZ</td>\n",
       "      <td>2017-04-07</td>\n",
       "      <td>12624548</td>\n",
       "      <td>1.736120e+19</td>\n",
       "      <td>13.449449</td>\n",
       "      <td>2</td>\n",
       "      <td>1.362530e+19</td>\n",
       "      <td>GAMES</td>\n",
       "    </tr>\n",
       "    <tr>\n",
       "      <th>3</th>\n",
       "      <td>US</td>\n",
       "      <td>2017-04-02</td>\n",
       "      <td>12624549</td>\n",
       "      <td>1.336540e+19</td>\n",
       "      <td>19.990000</td>\n",
       "      <td>5</td>\n",
       "      <td>1.193630e+19</td>\n",
       "      <td>GAMES</td>\n",
       "    </tr>\n",
       "    <tr>\n",
       "      <th>4</th>\n",
       "      <td>US</td>\n",
       "      <td>2017-04-03</td>\n",
       "      <td>12624549</td>\n",
       "      <td>1.387660e+19</td>\n",
       "      <td>19.990000</td>\n",
       "      <td>5</td>\n",
       "      <td>1.193630e+19</td>\n",
       "      <td>GAMES</td>\n",
       "    </tr>\n",
       "    <tr>\n",
       "      <th>5</th>\n",
       "      <td>US</td>\n",
       "      <td>2017-04-05</td>\n",
       "      <td>12624549</td>\n",
       "      <td>7.464000e+18</td>\n",
       "      <td>11.990000</td>\n",
       "      <td>5</td>\n",
       "      <td>1.193630e+19</td>\n",
       "      <td>GAMES</td>\n",
       "    </tr>\n",
       "    <tr>\n",
       "      <th>6</th>\n",
       "      <td>US</td>\n",
       "      <td>2017-04-02</td>\n",
       "      <td>12624549</td>\n",
       "      <td>5.762730e+18</td>\n",
       "      <td>19.990000</td>\n",
       "      <td>5</td>\n",
       "      <td>1.193630e+19</td>\n",
       "      <td>GAMES</td>\n",
       "    </tr>\n",
       "    <tr>\n",
       "      <th>7</th>\n",
       "      <td>US</td>\n",
       "      <td>2017-04-03</td>\n",
       "      <td>12624549</td>\n",
       "      <td>1.607670e+19</td>\n",
       "      <td>19.990000</td>\n",
       "      <td>5</td>\n",
       "      <td>1.193630e+19</td>\n",
       "      <td>GAMES</td>\n",
       "    </tr>\n",
       "    <tr>\n",
       "      <th>8</th>\n",
       "      <td>US</td>\n",
       "      <td>2017-04-03</td>\n",
       "      <td>12624549</td>\n",
       "      <td>1.479220e+19</td>\n",
       "      <td>19.990000</td>\n",
       "      <td>5</td>\n",
       "      <td>1.193630e+19</td>\n",
       "      <td>GAMES</td>\n",
       "    </tr>\n",
       "    <tr>\n",
       "      <th>9</th>\n",
       "      <td>US</td>\n",
       "      <td>2017-04-03</td>\n",
       "      <td>12624549</td>\n",
       "      <td>1.287640e+19</td>\n",
       "      <td>19.990000</td>\n",
       "      <td>5</td>\n",
       "      <td>1.193630e+19</td>\n",
       "      <td>GAMES</td>\n",
       "    </tr>\n",
       "    <tr>\n",
       "      <th>10</th>\n",
       "      <td>US</td>\n",
       "      <td>2017-04-03</td>\n",
       "      <td>12624549</td>\n",
       "      <td>5.616390e+18</td>\n",
       "      <td>19.990000</td>\n",
       "      <td>5</td>\n",
       "      <td>1.193630e+19</td>\n",
       "      <td>GAMES</td>\n",
       "    </tr>\n",
       "    <tr>\n",
       "      <th>11</th>\n",
       "      <td>US</td>\n",
       "      <td>2017-04-03</td>\n",
       "      <td>12624549</td>\n",
       "      <td>7.629380e+18</td>\n",
       "      <td>14.990000</td>\n",
       "      <td>5</td>\n",
       "      <td>1.193630e+19</td>\n",
       "      <td>GAMES</td>\n",
       "    </tr>\n",
       "  </tbody>\n",
       "</table>\n",
       "</div>"
      ],
      "text/plain": [
       "   country       date  experiment_id      order_id  spend_usd  user_bucket  \\\n",
       "0       IT 2017-04-01       12624549  1.593530e+18   3.799427           12   \n",
       "1       BR 2017-04-01       12624548  5.746750e+18   2.546213            9   \n",
       "2       NZ 2017-04-07       12624548  1.736120e+19  13.449449            2   \n",
       "3       US 2017-04-02       12624549  1.336540e+19  19.990000            5   \n",
       "4       US 2017-04-03       12624549  1.387660e+19  19.990000            5   \n",
       "5       US 2017-04-05       12624549  7.464000e+18  11.990000            5   \n",
       "6       US 2017-04-02       12624549  5.762730e+18  19.990000            5   \n",
       "7       US 2017-04-03       12624549  1.607670e+19  19.990000            5   \n",
       "8       US 2017-04-03       12624549  1.479220e+19  19.990000            5   \n",
       "9       US 2017-04-03       12624549  1.287640e+19  19.990000            5   \n",
       "10      US 2017-04-03       12624549  5.616390e+18  19.990000            5   \n",
       "11      US 2017-04-03       12624549  7.629380e+18  14.990000            5   \n",
       "\n",
       "         user_id vertical  \n",
       "0   3.454650e+18    GAMES  \n",
       "1   9.303510e+18    GAMES  \n",
       "2   1.362530e+19    GAMES  \n",
       "3   1.193630e+19    GAMES  \n",
       "4   1.193630e+19    GAMES  \n",
       "5   1.193630e+19    GAMES  \n",
       "6   1.193630e+19    GAMES  \n",
       "7   1.193630e+19    GAMES  \n",
       "8   1.193630e+19    GAMES  \n",
       "9   1.193630e+19    GAMES  \n",
       "10  1.193630e+19    GAMES  \n",
       "11  1.193630e+19    GAMES  "
      ]
     },
     "execution_count": 44,
     "metadata": {},
     "output_type": "execute_result"
    }
   ],
   "source": [
    "dir2 = '..../python_project_experiment_data.csv'\n",
    "df2 = pd.read_csv(dir2, parse_dates=True)\n",
    "df2.date = pd.to_datetime(df2.date)\n",
    "df2.head(12)"
   ]
  },
  {
   "cell_type": "code",
   "execution_count": 61,
   "metadata": {},
   "outputs": [
    {
     "name": "stdout",
     "output_type": "stream",
     "text": [
      "number of experiment group is 6707\n",
      "number of control group is 6294\n"
     ]
    }
   ],
   "source": [
    "print \"number of experiment group is\", len(df2[df2[\"experiment_id\"] == 12624548])\n",
    "print \"number of control group is\", len(df2) - len(df2[df2[\"experiment_id\"] == 12624548])"
   ]
  },
  {
   "cell_type": "markdown",
   "metadata": {},
   "source": [
    "The invariant metric for these two groups are comparable, which validates the data collected."
   ]
  },
  {
   "cell_type": "markdown",
   "metadata": {},
   "source": [
    "###  Result Analysis"
   ]
  },
  {
   "cell_type": "code",
   "execution_count": 43,
   "metadata": {
    "collapsed": true
   },
   "outputs": [],
   "source": [
    "import scipy.stats as stats\n",
    "from scipy.stats import t\n",
    "import datetime \n",
    "from matplotlib.ticker import FuncFormatter"
   ]
  },
  {
   "cell_type": "markdown",
   "metadata": {
    "collapsed": true
   },
   "source": [
    "#### Experiment Result Visualization"
   ]
  },
  {
   "cell_type": "code",
   "execution_count": 54,
   "metadata": {
    "collapsed": true
   },
   "outputs": [],
   "source": [
    "def GetDailySeries(my_data, my_id):\n",
    "    table = my_data[[\"date\", \"spend_usd\"]][my_data.experiment_id == my_id]\n",
    "    series = table.groupby('date')['spend_usd'].sum()\n",
    "    return series\n",
    "\n",
    "def GetDailyCumulativeSeries(my_data, my_id):\n",
    "    table = my_data[[\"date\", \"spend_usd\"]][my_data.experiment_id == my_id]\n",
    "    series = table.groupby('date')['spend_usd'].sum()\n",
    "    series = np.cumsum(series)\n",
    "    return series\n",
    "def dollar(x, pos):\n",
    "    return '$%1.0f' % x\n",
    "\n",
    "def PlotSeries(experiment_series, control_series):\n",
    "    data = pd.DataFrame(\n",
    "        {\n",
    "            \"experiment\": experiment_series.tolist(),\n",
    "            \"control\": control_series.tolist()\n",
    "        },\n",
    "        index = experiment_series.index.tolist(),\n",
    "        columns = [\"experiment\", \"control\"]\n",
    "    )\n",
    "    fig, axes = plt.subplots(nrows=1, ncols=2, figsize=(18, 6))\n",
    "    axes[0].plot(experiment_series, 'r-', label=\"experiment\")\n",
    "    axes[0].plot(control_series, 'g-', label=\"control\")\n",
    "    axes[0].set_title(\"Cummulative Total Revenu: Experiment vs. Control\")\n",
    "    axes[0].set_ylabel(\"Cunmulative total revenue\")\n",
    "    #axes[0].grid(linestyle = '--')\n",
    "    axes[0].legend()\n",
    "    formatter = FuncFormatter(dollar)\n",
    "    axes[0].yaxis.set_major_formatter(formatter)\n",
    "    \n",
    "    data['Discrency'] = (data.experiment - data.control)/data.control\n",
    "    data.drop(['experiment'], axis = 1, inplace = True)\n",
    "    data.drop(['control'], axis = 1, inplace = True)\n",
    "    \n",
    "    axes[1].plot(data, 'b-', marker = 'd')\n",
    "    axes[1].set_title('Uplift of Total Revenue: Experiment vs. Control')\n",
    "    axes[1].set_ylabel('Uplift of Total Revenue')\n",
    "    vals = axes[1].get_yticks()\n",
    "    axes[1].set_yticklabels(['{:3.1f}%'.format(x*100) for x in vals])\n",
    "    #axes[1].grid(linestyle = '--')\n",
    "    \n",
    "    plt.gcf().autofmt_xdate()\n",
    "    plt.subplots_adjust(wspace = 0.2)\n",
    "    \n",
    "def PlotCumulativeTimeSeries(my_data, experiment_id, control_id):\n",
    "    my_data = my_data.sort_values(\"date\", ascending=True, inplace=False)\n",
    "    experiment_series = GetDailyCumulativeSeries(my_data, experiment_id)\n",
    "    control_series = GetDailyCumulativeSeries(my_data, control_id)    \n",
    "    PlotSeries(experiment_series, control_series)"
   ]
  },
  {
   "cell_type": "code",
   "execution_count": 55,
   "metadata": {},
   "outputs": [
    {
     "data": {
      "image/png": "[encoded data removed]",
      "text/plain": [
       "<matplotlib.figure.Figure at 0x10d1d6050>"
      ]
     },
     "metadata": {},
     "output_type": "display_data"
    }
   ],
   "source": [
    "my_data = df2\n",
    "experiment_id = 12624548\n",
    "control_id = 12624549\n",
    "PlotCumulativeTimeSeries(my_data, experiment_id, control_id)"
   ]
  },
  {
   "cell_type": "markdown",
   "metadata": {},
   "source": [
    "It seems that there is a 5% uplift of total revenue in experiment group. Then the task goes to test if this uplife is statistically significant."
   ]
  },
  {
   "cell_type": "markdown",
   "metadata": {
    "collapsed": true
   },
   "source": [
    "In order to compute a 95% confidence interval, a method named Jackknife is applied here. The reason why I use Jackknife is that it works well when we can't know the distribution of population or we can't any assumption for the distribution of population. "
   ]
  },
  {
   "cell_type": "markdown",
   "metadata": {},
   "source": [
    "### Creating 95% confidence interval using Jackknife"
   ]
  },
  {
   "cell_type": "code",
   "execution_count": 56,
   "metadata": {
    "collapsed": true
   },
   "outputs": [],
   "source": [
    "# jackknife method \n",
    "def GetUserBucket(my_data, my_id):\n",
    "    table = my_data[[\"user_bucket\",\"spend_usd\"]][my_data.experiment_id == my_id]\n",
    "    series = table.groupby(\"user_bucket\")[\"spend_usd\"].sum()\n",
    "    return series\n",
    "\n",
    "def JackknifeStandardErrorTwoSample(exp_series, ctr_series):    \n",
    "    n_buckets = len(exp_series)\n",
    "  \n",
    "    exp_sum = sum(exp_series)\n",
    "    ctr_sum = sum(ctr_series)\n",
    "    exp_metric = exp_sum / float(n_buckets)\n",
    "    ctr_metric = ctr_sum / float(n_buckets)\n",
    "  \n",
    "    metric_diff = exp_metric - ctr_metric  # metric is the difference of total spend between two groups\n",
    "\n",
    "    exp_series = exp_series.tolist()\n",
    "    ctr_series = ctr_series.tolist()\n",
    "    jackknife_sum_squares = 0.0\n",
    "  \n",
    "    for i in range(n_buckets):\n",
    "        jackknife_bucket = (exp_sum - exp_series[i]) / float(n_buckets - 1) - (ctr_sum - ctr_series[i]) / float(n_buckets - 1)            \n",
    "        jackknife_sum_squares += (jackknife_bucket - metric_diff) ** 2\n",
    "  \n",
    "    metric_se = np.sqrt(jackknife_sum_squares * ((n_buckets - 1) / float(n_buckets)))\n",
    "    return metric_diff, metric_se"
   ]
  },
  {
   "cell_type": "code",
   "execution_count": 57,
   "metadata": {
    "collapsed": true
   },
   "outputs": [],
   "source": [
    "# create confidecne interval\n",
    "def CreateTConfidenceInterval(overall_metric,\n",
    "                              metric_se,\n",
    "                              n_buckets=20,   # because n ia less than 30, we use t-test\n",
    "                              confidence_level=0.05):\n",
    "    t_rv = t(n_buckets - 1)\n",
    "    t_statistic = t_rv.ppf(1 - confidence_level / 2.0)   #critical value \n",
    "\n",
    "    upper_bound = overall_metric + t_statistic * metric_se\n",
    "    lower_bound = overall_metric - t_statistic * metric_se\n",
    "    return lower_bound, upper_bound"
   ]
  },
  {
   "cell_type": "code",
   "execution_count": 58,
   "metadata": {
    "collapsed": true
   },
   "outputs": [],
   "source": [
    "def GetCumulativeUserBucket(my_data, my_id, until_date):\n",
    "    table = my_data[[\"user_bucket\",\"date\",\"spend_usd\"]][my_data.experiment_id == my_id]\n",
    "    series = table[table.date <= until_date].groupby(\"user_bucket\")[\"spend_usd\"].sum()\n",
    "    return series"
   ]
  },
  {
   "cell_type": "code",
   "execution_count": 65,
   "metadata": {
    "collapsed": true
   },
   "outputs": [],
   "source": [
    "# plot cumulative confidence interval on difference\n",
    "def PlotCumulativeTimeSerieswithCI(my_data, exp_id, ctr_id, confidence_level=0.05):\n",
    "    days_ = []\n",
    "    value_ = []\n",
    "    lower_ = []\n",
    "    upper_ = []\n",
    "    baseline_ = []\n",
    "    my_dates = my_data.date.unique()\n",
    "\n",
    "    for unique_day in my_dates:\n",
    "        exp_series = GetCumulativeUserBucket(my_data, exp_id, unique_day)\n",
    "        ctr_series = GetCumulativeUserBucket(my_data, ctr_id, unique_day)\n",
    "        baseline_.append(0.0)\n",
    "        \n",
    "        metric, se = JackknifeStandardErrorTwoSample(exp_series, ctr_series)\n",
    "        lower, upper = CreateTConfidenceInterval(metric, se)\n",
    "        control = sum(ctr_series) # total spend untill a day\n",
    "\n",
    "        days_.append(unique_day)\n",
    "\n",
    "        value_.append(metric / control)  # uplift of experiment compared to control\n",
    "        lower_.append(lower / control)   \n",
    "        upper_.append(upper / control)\n",
    "\n",
    "    # our final CI\n",
    "    lower_bound_pct = round(lower_[-1]*100,2)\n",
    "    upper_bound_pct = round(upper_[-1]*100,2)\n",
    "    avg_metric_pct = round(value_[-1]*100,2)\n",
    "    is_stat_sig = \"YES\" if lower_bound_pct>0 or upper_bound_pct<0 else \"NO\"\n",
    "    \n",
    "    print \"Experiment\", exp_id\n",
    "    print \"  Jackkinfe confidence interval: [{0}%, {1}%]\".format(\n",
    "        lower_bound_pct, upper_bound_pct)\n",
    "    print \"  Statistical significance: {0}\".format(is_stat_sig)\n",
    "        \n",
    "    # draw the chart\n",
    "    final_data = pd.DataFrame(\n",
    "        {\n",
    "            'date': days_,\n",
    "            'value': value_,\n",
    "            'upper': upper_,\n",
    "            'lower': lower_,\n",
    "            'baseline': baseline_\n",
    "        },\n",
    "        index = days_,\n",
    "        columns=['date','value','upper','lower','baseline']).sort_values(by='date', ascending=True)\n",
    "\n",
    "    fig, ax4 = plt.subplots(figsize=(8, 6))\n",
    "    ax4.plot(final_data.index, final_data.value, color=\"blue\")\n",
    "    ax4.plot(final_data.index, final_data.baseline, color=\"black\")\n",
    "    vals = ax4.get_yticks()\n",
    "    ax4.set_yticklabels(['{:3.1f}%'.format(x*100) for x in vals])\n",
    "    ax4.fill_between(final_data.index, final_data.lower, final_data.upper, color=\"blue\", alpha=0.2)\n",
    "    ax4.plot(y=0)\n",
    "    ax4.grid(linestyle = '--')\n",
    "    plt.gcf().autofmt_xdate()"
   ]
  },
  {
   "cell_type": "code",
   "execution_count": 66,
   "metadata": {},
   "outputs": [
    {
     "name": "stdout",
     "output_type": "stream",
     "text": [
      "Experiment 12624548\n",
      "  Jackkinfe confidence interval: [-0.76%, 1.69%]\n",
      "  Statistical significance: NO\n"
     ]
    },
    {
     "data": {
      "image/png": "[encoded data removed]",
      "text/plain": [
       "<matplotlib.figure.Figure at 0x10edb77d0>"
      ]
     },
     "metadata": {},
     "output_type": "display_data"
    }
   ],
   "source": [
    "PlotCumulativeTimeSerieswithCI(df2,12624548,12624549)"
   ]
  },
  {
   "cell_type": "markdown",
   "metadata": {},
   "source": [
    "In order to figure out the reason behind the insignificance, I will selice data further to pictures which segments cause the this result. For example, I could slice data according to 'vertical' or \"country\", then create the 95% confience interval to see whether the result is significant for each groups.<br>\n",
    "Suppose that they were neither significant however I slice the data. "
   ]
  },
  {
   "cell_type": "markdown",
   "metadata": {},
   "source": [
    "## Recommendation"
   ]
  },
  {
   "cell_type": "markdown",
   "metadata": {},
   "source": [
    "There is no statistcal significance in uplift of total revenue of experiment group. This means there is no impact made on the total revenue by the marketing campaign if we run the same campaign multiple times. In other word, this strategy just works less than 95 times out of every 100 times of campaign made. "
   ]
  },
  {
   "cell_type": "markdown",
   "metadata": {},
   "source": [
    "As a result, we can't reach the goal to increase total revenue by 5% for the next quarter. In order to reach the goal, we have to switch to another strategy and then conduct a A/B test to see the significance. "
   ]
  },
  {
   "cell_type": "markdown",
   "metadata": {},
   "source": [
    "Plan B: Incentivize cusomters to add gift cards as more as possible to their accounts.<br>\n",
    "Plan c: Send direct emails to remind customers to check out after they have been dormant for 3+ days after adding items to cart "
   ]
  }
 ],
 "metadata": {
  "kernelspec": {
   "display_name": "Python 2",
   "language": "python",
   "name": "python2"
  },
  "language_info": {
   "codemirror_mode": {
    "name": "ipython",
    "version": 2
   },
   "file_extension": ".py",
   "mimetype": "text/x-python",
   "name": "python",
   "nbconvert_exporter": "python",
   "pygments_lexer": "ipython2",
   "version": "2.7.13"
  }
 },
 "nbformat": 4,
 "nbformat_minor": 2
}
